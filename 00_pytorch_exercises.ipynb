{
  "nbformat": 4,
  "nbformat_minor": 0,
  "metadata": {
    "colab": {
      "provenance": [],
      "toc_visible": true,
      "authorship_tag": "ABX9TyMGRgquaQgFR0UyY7HS/gfs",
      "include_colab_link": true
    },
    "kernelspec": {
      "name": "python3",
      "display_name": "Python 3"
    },
    "language_info": {
      "name": "python"
    }
  },
  "cells": [
    {
      "cell_type": "markdown",
      "metadata": {
        "id": "view-in-github",
        "colab_type": "text"
      },
      "source": [
        "<a href=\"https://colab.research.google.com/github/MarvelousGrace/Pytorch-Tutorials/blob/main/00_pytorch_exercises.ipynb\" target=\"_parent\"><img src=\"https://colab.research.google.com/assets/colab-badge.svg\" alt=\"Open In Colab\"/></a>"
      ]
    },
    {
      "cell_type": "code",
      "execution_count": null,
      "metadata": {
        "id": "5DJYyCPnKrPc"
      },
      "outputs": [],
      "source": [
        "import torch\n"
      ]
    },
    {
      "cell_type": "code",
      "source": [
        "# Create a random tensor with shape (7, 7)\n",
        "torch.rand(7, 7)"
      ],
      "metadata": {
        "colab": {
          "base_uri": "https://localhost:8080/"
        },
        "id": "XS-mpvvmLc6u",
        "outputId": "7f537816-4b16-456d-93f8-333ed2a97d50"
      },
      "execution_count": null,
      "outputs": [
        {
          "output_type": "execute_result",
          "data": {
            "text/plain": [
              "tensor([[0.2278, 0.8851, 0.2440, 0.3160, 0.5478, 0.5121, 0.5931],\n",
              "        [0.5396, 0.2968, 0.1538, 0.9015, 0.8637, 0.9012, 0.8470],\n",
              "        [0.0513, 0.1348, 0.2902, 0.9261, 0.4671, 0.3617, 0.4042],\n",
              "        [0.3712, 0.5086, 0.8470, 0.1444, 0.1598, 0.9070, 0.8646],\n",
              "        [0.2299, 0.3934, 0.5402, 0.5196, 0.8450, 0.6836, 0.3840],\n",
              "        [0.2162, 0.9526, 0.1889, 0.4093, 0.9613, 0.0642, 0.9405],\n",
              "        [0.3068, 0.3027, 0.0978, 0.7176, 0.2270, 0.4891, 0.4999]])"
            ]
          },
          "metadata": {},
          "execution_count": 3
        }
      ]
    }
  ]
}