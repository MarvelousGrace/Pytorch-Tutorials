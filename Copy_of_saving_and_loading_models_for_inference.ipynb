{
  "cells": [
    {
      "cell_type": "markdown",
      "metadata": {
        "id": "view-in-github",
        "colab_type": "text"
      },
      "source": [
        "<a href=\"https://colab.research.google.com/github/MarvelousGrace/Pytorch-Tutorials/blob/main/Copy_of_saving_and_loading_models_for_inference.ipynb\" target=\"_parent\"><img src=\"https://colab.research.google.com/assets/colab-badge.svg\" alt=\"Open In Colab\"/></a>"
      ]
    },
    {
      "cell_type": "code",
      "execution_count": null,
      "metadata": {
        "id": "p8rhgndi2GrV"
      },
      "outputs": [],
      "source": [
        "%matplotlib inline"
      ]
    },
    {
      "cell_type": "markdown",
      "metadata": {
        "id": "GFSBm1mz2GrW"
      },
      "source": [
        "\n",
        "Saving and loading models for inference in PyTorch\n",
        "==================================================\n",
        "There are two approaches for saving and loading models for inference in\n",
        "PyTorch. The first is saving and loading the ``state_dict``, and the\n",
        "second is saving and loading the entire model.\n",
        "\n",
        "Introduction\n",
        "------------\n",
        "Saving the model’s ``state_dict`` with the ``torch.save()`` function\n",
        "will give you the most flexibility for restoring the model later. This\n",
        "is the recommended method for saving models, because it is only really\n",
        "necessary to save the trained model’s learned parameters.\n",
        "When saving and loading an entire model, you save the entire module\n",
        "using Python’s\n",
        "`pickle <https://docs.python.org/3/library/pickle.html>`__ module. Using\n",
        "this approach yields the most intuitive syntax and involves the least\n",
        "amount of code. The disadvantage of this approach is that the serialized\n",
        "data is bound to the specific classes and the exact directory structure\n",
        "used when the model is saved. The reason for this is because pickle does\n",
        "not save the model class itself. Rather, it saves a path to the file\n",
        "containing the class, which is used during load time. Because of this,\n",
        "your code can break in various ways when used in other projects or after\n",
        "refactors.\n",
        "In this recipe, we will explore both ways on how to save and load models\n",
        "for inference.\n",
        "\n",
        "Setup\n",
        "-----\n",
        "Before we begin, we need to install ``torch`` if it isn’t already\n",
        "available.\n",
        "\n",
        "\n",
        "::\n",
        "\n",
        "   pip install torch\n"
      ]
    },
    {
      "cell_type": "markdown",
      "metadata": {
        "id": "ZNtpjDqo2GrX"
      },
      "source": [
        "Steps\n",
        "-----\n",
        "\n",
        "1. Import all necessary libraries for loading our data\n",
        "2. Define and intialize the neural network\n",
        "3. Initialize the optimizer\n",
        "4. Save and load the model via ``state_dict``\n",
        "5. Save and load the entire model\n",
        "\n",
        "1. Import necessary libraries for loading our data\n",
        "~~~~~~~~~~~~~~~~~~~~~~~~~~~~~~~~~~~~~~~~~~~~~~~~~~~~~~\n",
        "\n",
        "For this recipe, we will use ``torch`` and its subsidiaries ``torch.nn``\n",
        "and ``torch.optim``.\n",
        "\n",
        "\n"
      ]
    },
    {
      "cell_type": "code",
      "execution_count": null,
      "metadata": {
        "id": "LWWnBJIM2GrX"
      },
      "outputs": [],
      "source": [
        "import torch\n",
        "import torch.nn as nn\n",
        "import torch.optim as optim"
      ]
    },
    {
      "cell_type": "markdown",
      "metadata": {
        "id": "lXu3yVjJ2GrX"
      },
      "source": [
        "2. Define and intialize the neural network\n",
        "~~~~~~~~~~~~~~~~~~~~~~~~~~~~~~~~~~~~~~~~~~~~~~\n",
        "\n",
        "For sake of example, we will create a neural network for training\n",
        "images. To learn more see the Defining a Neural Network recipe.\n",
        "\n",
        "\n"
      ]
    },
    {
      "cell_type": "code",
      "execution_count": null,
      "metadata": {
        "id": "r5QMpYyx2GrX"
      },
      "outputs": [],
      "source": [
        "class Net(nn.Module):\n",
        "    def __init__(self):\n",
        "        super(Net, self).__init__()\n",
        "        self.conv1 = nn.Conv2d(3, 6, 5)\n",
        "        self.pool = nn.MaxPool2d(2, 2)\n",
        "        self.conv2 = nn.Conv2d(6, 16, 5)\n",
        "        self.fc1 = nn.Linear(16 * 5 * 5, 120)\n",
        "        self.fc2 = nn.Linear(120, 84)\n",
        "        self.fc3 = nn.Linear(84, 10)\n",
        "\n",
        "    def forward(self, x):\n",
        "        x = self.pool(F.relu(self.conv1(x)))\n",
        "        x = self.pool(F.relu(self.conv2(x)))\n",
        "        x = x.view(-1, 16 * 5 * 5)\n",
        "        x = F.relu(self.fc1(x))\n",
        "        x = F.relu(self.fc2(x))\n",
        "        x = self.fc3(x)\n",
        "        return x\n",
        "\n",
        "net = Net()\n",
        "print(net)"
      ]
    },
    {
      "cell_type": "markdown",
      "metadata": {
        "id": "WE0iyTtQ2GrX"
      },
      "source": [
        "3. Initialize the optimizer\n",
        "~~~~~~~~~~~~~~~~~~~~~~~~~~~~~~~\n",
        "\n",
        "We will use SGD with momentum.\n",
        "\n",
        "\n"
      ]
    },
    {
      "cell_type": "code",
      "execution_count": null,
      "metadata": {
        "id": "g26EyKtg2GrX"
      },
      "outputs": [],
      "source": [
        "optimizer = optim.SGD(net.parameters(), lr=0.001, momentum=0.9)"
      ]
    },
    {
      "cell_type": "markdown",
      "metadata": {
        "id": "AUaU3Wt_2GrX"
      },
      "source": [
        "4. Save and load the model via ``state_dict``\n",
        "~~~~~~~~~~~~~~~~~~~~~~~~~~~~~~~~~~~~~~~~~~~~~~~~~\n",
        "\n",
        "Let’s save and load our model using just ``state_dict``.\n",
        "\n",
        "\n"
      ]
    },
    {
      "cell_type": "code",
      "execution_count": null,
      "metadata": {
        "id": "I9A1qQFa2GrX"
      },
      "outputs": [],
      "source": [
        "# Specify a path\n",
        "PATH = \"state_dict_model.pt\"\n",
        "\n",
        "# Save\n",
        "torch.save(net.state_dict(), PATH)\n",
        "\n",
        "# Load\n",
        "model = Net()\n",
        "model.load_state_dict(torch.load(PATH))\n",
        "model.eval()"
      ]
    },
    {
      "cell_type": "markdown",
      "metadata": {
        "id": "_t2AhnDx2GrX"
      },
      "source": [
        "A common PyTorch convention is to save models using either a ``.pt`` or\n",
        "``.pth`` file extension.\n",
        "\n",
        "Notice that the ``load_state_dict()`` function takes a dictionary\n",
        "object, NOT a path to a saved object. This means that you must\n",
        "deserialize the saved state_dict before you pass it to the\n",
        "``load_state_dict()`` function. For example, you CANNOT load using\n",
        "``model.load_state_dict(PATH)``.\n",
        "\n",
        "Remember too, that you must call ``model.eval()`` to set dropout and\n",
        "batch normalization layers to evaluation mode before running inference.\n",
        "Failing to do this will yield inconsistent inference results.\n",
        "\n",
        "5. Save and load entire model\n",
        "~~~~~~~~~~~~~~~~~~~~~~~~~~~~~~~~~\n",
        "\n",
        "Now let’s try the same thing with the entire model.\n",
        "\n",
        "\n"
      ]
    },
    {
      "cell_type": "code",
      "execution_count": null,
      "metadata": {
        "id": "GACJhFtA2GrX"
      },
      "outputs": [],
      "source": [
        "# Specify a path\n",
        "PATH = \"entire_model.pt\"\n",
        "\n",
        "# Save\n",
        "torch.save(net, PATH)\n",
        "\n",
        "# Load\n",
        "model = torch.load(PATH)\n",
        "model.eval()"
      ]
    },
    {
      "cell_type": "markdown",
      "metadata": {
        "id": "HyfXmVTk2GrY"
      },
      "source": [
        "Again here, remember that you must call model.eval() to set dropout and\n",
        "batch normalization layers to evaluation mode before running inference.\n",
        "\n",
        "Congratulations! You have successfully saved and load models for\n",
        "inference in PyTorch.\n",
        "\n",
        "Learn More\n",
        "----------\n",
        "\n",
        "Take a look at these other recipes to continue your learning:\n",
        "\n",
        "- `Saving and loading a general checkpoint in PyTorch <https://pytorch.org/tutorials/recipes/recipes/saving_and_loading_a_general_checkpoint.html>`__\n",
        "- `Saving and loading multiple models in one file using PyTorch <https://pytorch.org/tutorials/recipes/recipes/saving_multiple_models_in_one_file.html>`__\n",
        "\n"
      ]
    },
    {
      "cell_type": "code",
      "source": [],
      "metadata": {
        "id": "F38Hy8c4DZpr"
      },
      "execution_count": null,
      "outputs": []
    }
  ],
  "metadata": {
    "kernelspec": {
      "display_name": "Python 3",
      "language": "python",
      "name": "python3"
    },
    "language_info": {
      "codemirror_mode": {
        "name": "ipython",
        "version": 3
      },
      "file_extension": ".py",
      "mimetype": "text/x-python",
      "name": "python",
      "nbconvert_exporter": "python",
      "pygments_lexer": "ipython3",
      "version": "3.7.13"
    },
    "colab": {
      "provenance": [],
      "toc_visible": true,
      "include_colab_link": true
    }
  },
  "nbformat": 4,
  "nbformat_minor": 0
}