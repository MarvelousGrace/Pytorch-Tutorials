{
  "nbformat": 4,
  "nbformat_minor": 0,
  "metadata": {
    "colab": {
      "provenance": [],
      "toc_visible": true,
      "authorship_tag": "ABX9TyMjIqQ/lt+TusuJEjQarMkz",
      "include_colab_link": true
    },
    "kernelspec": {
      "name": "python3",
      "display_name": "Python 3"
    },
    "language_info": {
      "name": "python"
    }
  },
  "cells": [
    {
      "cell_type": "markdown",
      "metadata": {
        "id": "view-in-github",
        "colab_type": "text"
      },
      "source": [
        "<a href=\"https://colab.research.google.com/github/MarvelousGrace/Pytorch-Tutorials/blob/main/pytorch_computer_vision.ipynb\" target=\"_parent\"><img src=\"https://colab.research.google.com/assets/colab-badge.svg\" alt=\"Open In Colab\"/></a>"
      ]
    },
    {
      "cell_type": "markdown",
      "source": [
        "#PyTorch computer vision\n",
        "\n",
        ".See reference notebook - https://github.com/mrdbourke/pytorch-deep-learning/blob/main/03_pytorch_computer_vision.ipynb\n",
        "\n",
        ". See reference online book - https://www.learnpytorch.io/03_pytorch_computer_vision/"
      ],
      "metadata": {
        "id": "ZLIOSucjoJ6x"
      }
    },
    {
      "cell_type": "markdown",
      "source": [
        "# 0. computer vision libraries in PyTorch\n",
        "'torchvision' -base domain library for PyTorch computer vision\n",
        ".torchvision.datasets -get datasets and data leading functions for computer vision here\n",
        ".torchvision.models -get pretrained computer vision models that you can leverage for your own problems\n",
        ".torchvision.transforms -functions for manipulating your vision data(images) to be suitable for use with\n",
        ".torch.utils.data.Dataset -Base dataset class for PyTorch.\n",
        ".torch.utils.data.DataLoader -Creates aPython iterable over a data"
      ],
      "metadata": {
        "id": "wAdS9cICNLA9"
      }
    },
    {
      "cell_type": "code",
      "source": [
        "#Import PYTorch\n",
        "import torch\n",
        "from torch import nn\n",
        "\n",
        "# Import torchvision\n",
        "import torchvision\n",
        "from torchvision import datasets\n",
        "from torchvision import transforms\n",
        "from torchvision.transforms import ToTensor\n",
        "\n",
        "# Import matplotlib for visualization\n",
        "import matplotlib.pyplot as plt\n",
        "\n",
        "# Check version\n",
        "print(torch.__version__)\n",
        "print(torchvision.__version__)"
      ],
      "metadata": {
        "colab": {
          "base_uri": "https://localhost:8080/"
        },
        "id": "wPicE4tFp16a",
        "outputId": "fb8073ab-585d-4a6b-e973-f68481a76978"
      },
      "execution_count": null,
      "outputs": [
        {
          "output_type": "stream",
          "name": "stdout",
          "text": [
            "2.1.0+cu121\n",
            "0.16.0+cu121\n"
          ]
        }
      ]
    },
    {
      "cell_type": "code",
      "source": [],
      "metadata": {
        "id": "C3uO-mJrsBT8"
      },
      "execution_count": null,
      "outputs": []
    }
  ]
}